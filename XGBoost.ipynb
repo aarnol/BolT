{
 "cells": [
  {
   "cell_type": "code",
   "execution_count": 23,
   "id": "dbe3e3b0",
   "metadata": {},
   "outputs": [],
   "source": [
    "import sklearn\n",
    "import os\n",
    "import sys\n",
    "from Dataset.Prep import fnirs_utils\n",
    "from Dataset.DataLoaders import hcpfNIRSLoader, hcpWorkingMemLoader\n",
    "import numpy as np\n",
    "import pandas as pd"
   ]
  },
  {
   "cell_type": "code",
   "execution_count": null,
   "id": "d141e2ea",
   "metadata": {},
   "outputs": [
    {
     "name": "stdout",
     "output_type": "stream",
     "text": [
      "All zeros:  [ 21  24  25  29  31  33  34  35  41  44  52  54  62  64  82  83  84  85\n",
      "  89  90  91  92  93  94  95 101 107 110 113 114]\n",
      "(562, 85, 20)\n",
      "(562,)\n",
      "(562,)\n"
     ]
    }
   ],
   "source": [
    "x,y,subjectIDs = hcpfNIRSLoader.hcpfNIRSLoader(None,None,'HBR',None)\n",
    "x = [j[:, :20] for j in x]\n",
    "for i in x:\n",
    "    if i.shape[1] != 20:\n",
    "        print('Error: ', i.shape[1])\n",
    "        print(i.shape)\n",
    "    \n",
    "x = np.array(x)\n",
    "y = np.array(y)\n",
    "subjectIDs = np.array(subjectIDs)\n",
    "x = x[:,:,:35]\n",
    "print(x.shape)\n",
    "print(y.shape)\n",
    "print(subjectIDs.shape)\n"
   ]
  },
  {
   "cell_type": "code",
   "execution_count": 25,
   "id": "dd5ab433",
   "metadata": {},
   "outputs": [],
   "source": [
    "# x,y,subjectIDs = hcpWorkingMemLoader.hcpWorkingMemLoader('sphere', 'nback')\n",
    "\n",
    "# for i in range(len(x)):\n",
    "#     if x[i].shape[1] != 35 and x[i].shape[1] != 34:\n",
    "#         print(x[i].shape[1])\n",
    "\n",
    "# #x = np.array(x)\n",
    "# y = np.array(y)\n",
    "# subjectIDs = np.array(subjectIDs)\n"
   ]
  },
  {
   "cell_type": "code",
   "execution_count": 26,
   "id": "481986e3",
   "metadata": {},
   "outputs": [],
   "source": [
    "import numpy as np\n",
    "from scipy.stats import entropy, linregress\n",
    "\n",
    "def extract_features_multichannel(data):\n",
    "    \"\"\"\n",
    "    Extract features from multichannel fNIRS (e.g., HbO) signal.\n",
    "\n",
    "    Parameters:\n",
    "    - data: np.ndarray, shape (n_channels, n_timepoints)\n",
    "\n",
    "    Returns:\n",
    "    - features: np.ndarray, shape (n_channels, n_features)\n",
    "    \"\"\"\n",
    "    features = []\n",
    "\n",
    "    for channel in data:\n",
    "        # Time-domain features\n",
    "        signal_mean = np.mean(channel)\n",
    "        signal_peak = np.max(channel)\n",
    "        signal_minimum = np.min(channel)\n",
    "        signal_variance = np.var(channel)\n",
    "        signal_median = np.median(channel)\n",
    "        signal_peak_to_peak = signal_peak - signal_minimum\n",
    "        signal_skewness = np.mean((channel - signal_mean)**3) / (np.std(channel)**3 + 1e-8)\n",
    "        signal_kurtosis = np.mean((channel - signal_mean)**4) / (np.std(channel)**4 + 1e-8)\n",
    "        \n",
    "        # Slope (linear trend)\n",
    "        slope, _, _, _, _ = linregress(np.arange(len(channel)), channel)\n",
    "        \n",
    "        # Energy\n",
    "        signal_energy = np.sum(channel**2)\n",
    "\n",
    "        # Entropy (after normalization)\n",
    "        hist, _ = np.histogram(channel, bins=32, density=True)\n",
    "        hist += 1e-8  # Avoid log(0)\n",
    "        signal_entropy = entropy(hist)\n",
    "\n",
    "        # Concatenate all features\n",
    "        channel_features = [\n",
    "            signal_mean, signal_peak, signal_minimum, signal_skewness,\n",
    "            signal_kurtosis, signal_variance, signal_median, signal_peak_to_peak,\n",
    "            slope, signal_energy, signal_entropy\n",
    "        ]\n",
    "        features.append(channel_features)\n",
    "\n",
    "    return np.array(features)\n"
   ]
  },
  {
   "cell_type": "code",
   "execution_count": 27,
   "id": "8efeba5a",
   "metadata": {},
   "outputs": [
    {
     "name": "stdout",
     "output_type": "stream",
     "text": [
      "(562, 680)\n"
     ]
    }
   ],
   "source": [
    "features = []\n",
    "\n",
    "for sample in x:  # x.shape: (n_samples, n_channels, n_timesteps)\n",
    "    sample_features = []\n",
    "    for channel in sample:  # shape: (n_timesteps,)\n",
    "       \n",
    "        channel_features = extract_features(channel)  # should return a 1D list or array\n",
    "        sample_features.extend(channel_features)  # flatten across channels\n",
    "    features.append(sample_features)  # shape: (n_samples, total_features)\n",
    "\n",
    "features = np.array(features)\n",
    "features = features.astype(np.float32)  # Convert to float32 for compatibility with TensorFlow\n",
    "print(features.shape)  # should be (n_samples, n_channels * features_per_channel)\n",
    "X_selected = features\n"
   ]
  },
  {
   "cell_type": "code",
   "execution_count": 28,
   "id": "562e9a67",
   "metadata": {},
   "outputs": [],
   "source": [
    "from sklearn.feature_selection import RFE\n",
    "from xgboost import XGBClassifier\n",
    "\n",
    "rfe = RFE(estimator=XGBClassifier(), n_features_to_select=200)\n",
    "X_selected = rfe.fit_transform(features, y)\n",
    "\n"
   ]
  },
  {
   "cell_type": "code",
   "execution_count": 29,
   "id": "b92861e0",
   "metadata": {},
   "outputs": [],
   "source": [
    "# # Use ANOVA test to select the top 200 features\n",
    "# from sklearn.feature_selection import SelectKBest, f_classif\n",
    "\n",
    "# # Fit the selector to the data\n",
    "# selector = SelectKBest(score_func=f_classif, k=50)\n",
    "# selector.fit(features, y)\n",
    "# X_selected = selector.transform(features)\n",
    "# # # Select features with p-value < 0.05\n",
    "# # mask = selector.pvalues_ < 0.05\n",
    "# # X_selected = features[:, mask]\n",
    "# print(f\"Original features shape: {features.shape}\")\n",
    "# print(f\"Selected features shape: {X_selected.shape}\")\n"
   ]
  },
  {
   "cell_type": "code",
   "execution_count": 30,
   "id": "4d2ae8ff",
   "metadata": {},
   "outputs": [],
   "source": [
    "from umap.umap_ import UMAP\n",
    "\n",
    "import matplotlib.pyplot as plt\n",
    "\n",
    "X_2d = UMAP().fit_transform(X_selected)\n"
   ]
  },
  {
   "cell_type": "code",
   "execution_count": 31,
   "id": "2505ad38",
   "metadata": {},
   "outputs": [
    {
     "data": {
      "image/png": "[encoded data removed]",
      "text/plain": [
       "<Figure size 640x480 with 1 Axes>"
      ]
     },
     "metadata": {},
     "output_type": "display_data"
    }
   ],
   "source": [
    "plt.scatter(X_2d[:,0], X_2d[:,1], c=y, cmap='coolwarm', alpha=0.7)\n",
    "plt.title(\"UMAP projection of selected features\")\n",
    "plt.xlim(5,10)\n",
    "plt.ylim(10,25)\n",
    "plt.show()\n"
   ]
  },
  {
   "cell_type": "code",
   "execution_count": 32,
   "id": "6e1ae75b",
   "metadata": {},
   "outputs": [
    {
     "name": "stdout",
     "output_type": "stream",
     "text": [
      "Mean accuracy: 0.62\n"
     ]
    }
   ],
   "source": [
    "from sklearn.model_selection import cross_val_score, GroupKFold\n",
    "from xgboost import XGBClassifier\n",
    "\n",
    "clf = XGBClassifier()\n",
    "cv = GroupKFold(n_splits=10)\n",
    "# Use subject IDs as groups for cross-validation\n",
    "groups = subjectIDs\n",
    "# Perform cross-validation\n",
    "# Note: cross_val_score will automatically handle the reshaping of y if needed\n",
    "scores = cross_val_score(clf, X_selected, y, cv=cv, groups=groups, scoring='accuracy')\n",
    "\n",
    "print(f\"Mean accuracy: {scores.mean():.2f}\")\n"
   ]
  },
  {
   "cell_type": "code",
   "execution_count": 37,
   "id": "378b7faa",
   "metadata": {},
   "outputs": [
    {
     "name": "stdout",
     "output_type": "stream",
     "text": [
      "Fitting 10 folds for each of 16 candidates, totalling 160 fits\n"
     ]
    },
    {
     "name": "stderr",
     "output_type": "stream",
     "text": [
      "c:\\Users\\Alex\\anaconda3\\envs\\bolt\\Lib\\site-packages\\xgboost\\training.py:183: UserWarning: [11:30:43] WARNING: C:\\actions-runner\\_work\\xgboost\\xgboost\\src\\learner.cc:738: \n",
      "Parameters: { \"use_label_encoder\" } are not used.\n",
      "\n",
      "  bst.update(dtrain, iteration=i, fobj=obj)\n"
     ]
    },
    {
     "name": "stdout",
     "output_type": "stream",
     "text": [
      "Best parameters found:  {'classifier__learning_rate': 0.01, 'classifier__max_depth': 5, 'classifier__n_estimators': 100, 'classifier__subsample': 1.0}\n",
      "Best cross-validation score:  0.6284959349593496\n"
     ]
    },
    {
     "data": {
      "text/plain": [
       "['best_model.pkl']"
      ]
     },
     "execution_count": 37,
     "metadata": {},
     "output_type": "execute_result"
    }
   ],
   "source": [
    "# Grid search\n",
    "from sklearn.model_selection import GridSearchCV\n",
    "from xgboost import XGBClassifier\n",
    "from sklearn.metrics import make_scorer, accuracy_score\n",
    "from sklearn.model_selection import GroupKFold\n",
    "from sklearn.pipeline import Pipeline\n",
    "\n",
    "\n",
    "# Define the parameter grid\n",
    "param_grid = {\n",
    "    'classifier__n_estimators': [100, 200],\n",
    "    'classifier__max_depth': [3, 5],\n",
    "    'classifier__learning_rate': [0.01, 0.1],\n",
    "    'classifier__subsample': [0.8, 1.0],\n",
    "}\n",
    "from sklearn.preprocessing import StandardScaler\n",
    "\n",
    "pipeline = Pipeline(steps=[\n",
    "    ('scaler', StandardScaler()),\n",
    "    ('classifier', XGBClassifier(use_label_encoder=False, eval_metric='mlogloss'))\n",
    "])\n",
    "\n",
    "\n",
    "\n",
    "# Create a GroupKFold object\n",
    "cv = GroupKFold(n_splits=10)\n",
    "# Perform grid search with cross-validation\n",
    "grid_search = GridSearchCV(\n",
    "    pipeline,\n",
    "    param_grid,\n",
    "    scoring=make_scorer(accuracy_score),\n",
    "    cv=cv,\n",
    "    n_jobs=-1,  # Use all available cores\n",
    "    verbose=1\n",
    ")\n",
    "# Fit the grid search to the data\n",
    "grid_search.fit(X_selected, y, groups=groups)\n",
    "# Print the best parameters and score\n",
    "print(\"Best parameters found: \", grid_search.best_params_)\n",
    "print(\"Best cross-validation score: \", grid_search.best_score_)\n",
    "# Save the best model\n",
    "import joblib\n",
    "joblib.dump(grid_search.best_estimator_, 'best_model.pkl')\n",
    "\n"
   ]
  },
  {
   "cell_type": "code",
   "execution_count": 35,
   "id": "d5ec9883",
   "metadata": {},
   "outputs": [
    {
     "data": {
      "image/png": "[encoded data removed]",
      "text/plain": [
       "<Figure size 640x480 with 2 Axes>"
      ]
     },
     "metadata": {},
     "output_type": "display_data"
    },
    {
     "name": "stdout",
     "output_type": "stream",
     "text": [
      "              precision    recall  f1-score   support\n",
      "\n",
      "           0       0.89      1.00      0.94       340\n",
      "           1       1.00      0.81      0.90       222\n",
      "\n",
      "    accuracy                           0.93       562\n",
      "   macro avg       0.95      0.91      0.92       562\n",
      "weighted avg       0.93      0.93      0.92       562\n",
      "\n"
     ]
    }
   ],
   "source": [
    "#confusion matrix\n",
    "from sklearn.metrics import confusion_matrix, ConfusionMatrixDisplay\n",
    "import matplotlib.pyplot as plt\n",
    "import seaborn as sns\n",
    "from sklearn.metrics import classification_report\n",
    "\n",
    "# Make predictions on the test set\n",
    "y_pred = grid_search.predict(X_selected)\n",
    "# Compute confusion matrix\n",
    "cm = confusion_matrix(y, y_pred)\n",
    "# Display confusion matrix\n",
    "disp = ConfusionMatrixDisplay(confusion_matrix=cm, display_labels=np.unique(y))\n",
    "disp.plot(cmap=plt.cm.Blues)\n",
    "plt.title(\"Confusion Matrix\")\n",
    "plt.show()\n",
    "# Print classification report\n",
    "print(classification_report(y, y_pred))\n"
   ]
  }
 ],
 "metadata": {
  "kernelspec": {
   "display_name": "bolt",
   "language": "python",
   "name": "python3"
  },
  "language_info": {
   "codemirror_mode": {
    "name": "ipython",
    "version": 3
   },
   "file_extension": ".py",
   "mimetype": "text/x-python",
   "name": "python",
   "nbconvert_exporter": "python",
   "pygments_lexer": "ipython3",
   "version": "3.12.7"
  }
 },
 "nbformat": 4,
 "nbformat_minor": 5
}
