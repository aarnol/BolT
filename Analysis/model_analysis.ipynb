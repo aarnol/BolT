{
 "cells": [
  {
   "cell_type": "code",
   "execution_count": 2,
   "metadata": {},
   "outputs": [],
   "source": [
    "import pandas\n",
    "import matplotlib.pyplot as plt"
   ]
  },
  {
   "cell_type": "code",
   "execution_count": 3,
   "metadata": {},
   "outputs": [
    {
     "data": {
      "text/html": [
       "<div>\n",
       "<style scoped>\n",
       "    .dataframe tbody tr th:only-of-type {\n",
       "        vertical-align: middle;\n",
       "    }\n",
       "\n",
       "    .dataframe tbody tr th {\n",
       "        vertical-align: top;\n",
       "    }\n",
       "\n",
       "    .dataframe thead th {\n",
       "        text-align: right;\n",
       "    }\n",
       "</style>\n",
       "<table border=\"1\" class=\"dataframe\">\n",
       "  <thead>\n",
       "    <tr style=\"text-align: right;\">\n",
       "      <th></th>\n",
       "      <th>Atlas</th>\n",
       "      <th>Window</th>\n",
       "      <th>Dynamic_length</th>\n",
       "      <th>Signal</th>\n",
       "      <th>Inverted</th>\n",
       "      <th>Accuracy</th>\n",
       "      <th>Precision</th>\n",
       "      <th>Recall</th>\n",
       "      <th>ROC</th>\n",
       "      <th>Subject (if applicable)</th>\n",
       "    </tr>\n",
       "  </thead>\n",
       "  <tbody>\n",
       "    <tr>\n",
       "      <th>0</th>\n",
       "      <td>sphere15mm</td>\n",
       "      <td>30</td>\n",
       "      <td>30</td>\n",
       "      <td>HbT</td>\n",
       "      <td>True</td>\n",
       "      <td>0.6250</td>\n",
       "      <td>0.750000</td>\n",
       "      <td>0.375</td>\n",
       "      <td>0.625000</td>\n",
       "      <td>1</td>\n",
       "    </tr>\n",
       "    <tr>\n",
       "      <th>1</th>\n",
       "      <td>sphere15mm</td>\n",
       "      <td>30</td>\n",
       "      <td>30</td>\n",
       "      <td>HbT</td>\n",
       "      <td>False</td>\n",
       "      <td>0.5000</td>\n",
       "      <td>0.500000</td>\n",
       "      <td>0.250</td>\n",
       "      <td>0.531250</td>\n",
       "      <td>1</td>\n",
       "    </tr>\n",
       "    <tr>\n",
       "      <th>2</th>\n",
       "      <td>sphere15mm</td>\n",
       "      <td>30</td>\n",
       "      <td>30</td>\n",
       "      <td>HbR</td>\n",
       "      <td>True</td>\n",
       "      <td>0.5625</td>\n",
       "      <td>0.555556</td>\n",
       "      <td>0.625</td>\n",
       "      <td>0.437500</td>\n",
       "      <td>1</td>\n",
       "    </tr>\n",
       "    <tr>\n",
       "      <th>3</th>\n",
       "      <td>sphere15mm</td>\n",
       "      <td>30</td>\n",
       "      <td>30</td>\n",
       "      <td>HbR</td>\n",
       "      <td>False</td>\n",
       "      <td>0.3750</td>\n",
       "      <td>0.250000</td>\n",
       "      <td>0.125</td>\n",
       "      <td>0.296875</td>\n",
       "      <td>1</td>\n",
       "    </tr>\n",
       "    <tr>\n",
       "      <th>4</th>\n",
       "      <td>sphere15mm</td>\n",
       "      <td>30</td>\n",
       "      <td>30</td>\n",
       "      <td>HbO</td>\n",
       "      <td>True</td>\n",
       "      <td>0.5000</td>\n",
       "      <td>0.500000</td>\n",
       "      <td>0.375</td>\n",
       "      <td>0.468750</td>\n",
       "      <td>1</td>\n",
       "    </tr>\n",
       "  </tbody>\n",
       "</table>\n",
       "</div>"
      ],
      "text/plain": [
       "        Atlas  Window  Dynamic_length Signal  Inverted  Accuracy  Precision  \\\n",
       "0  sphere15mm      30              30    HbT      True    0.6250   0.750000   \n",
       "1  sphere15mm      30              30    HbT     False    0.5000   0.500000   \n",
       "2  sphere15mm      30              30    HbR      True    0.5625   0.555556   \n",
       "3  sphere15mm      30              30    HbR     False    0.3750   0.250000   \n",
       "4  sphere15mm      30              30    HbO      True    0.5000   0.500000   \n",
       "\n",
       "   Recall       ROC  Subject (if applicable)  \n",
       "0   0.375  0.625000                        1  \n",
       "1   0.250  0.531250                        1  \n",
       "2   0.625  0.437500                        1  \n",
       "3   0.125  0.296875                        1  \n",
       "4   0.375  0.468750                        1  "
      ]
     },
     "execution_count": 3,
     "metadata": {},
     "output_type": "execute_result"
    }
   ],
   "source": [
    "model_results = pandas.read_excel('ModelResults.xlsx')\n",
    "model_results.head(5)"
   ]
  },
  {
   "cell_type": "code",
   "execution_count": 4,
   "metadata": {},
   "outputs": [
    {
     "data": {
      "image/png": "[encoded data removed]",
      "text/plain": [
       "<Figure size 640x480 with 1 Axes>"
      ]
     },
     "metadata": {},
     "output_type": "display_data"
    }
   ],
   "source": [
    "#plot the data by signal and invert\n",
    "\n",
    "for signal in model_results['Signal'].unique():\n",
    "    signal_data = model_results[model_results['Signal'] == signal]\n",
    "    pos_Data = signal_data[signal_data['Inverted'] == True]\n",
    "    neg_Data = signal_data[signal_data['Inverted'] == False]\n",
    "    avg_pos = pos_Data['Accuracy'].mean()\n",
    "    avg_neg = neg_Data['Accuracy'].mean()\n",
    "    plt.bar(signal, avg_pos, yerr=pos_Data['Accuracy'].std())\n",
    "    plt.bar(signal + \" inverted\", avg_neg, yerr=neg_Data['Accuracy'].std())\n",
    "plt.ylabel('Accuracy')\n",
    "plt.title('Accuracy by Signal')\n",
    "plt.show()"
   ]
  },
  {
   "cell_type": "code",
   "execution_count": 5,
   "metadata": {},
   "outputs": [
    {
     "data": {
      "image/png": "[encoded data removed]",
      "text/plain": [
       "<Figure size 640x480 with 1 Axes>"
      ]
     },
     "metadata": {},
     "output_type": "display_data"
    }
   ],
   "source": [
    "#compare 15 and 30 mm sphere\n",
    "\n",
    "sphere15 = model_results[model_results['Atlas'] == 'sphere15mm']\n",
    "sphere30 = model_results[model_results['Atlas'] == 'sphere30mm']\n",
    "\n",
    "plt.bar('15mm', sphere15['Accuracy'].mean(), yerr=sphere15['Accuracy'].std())\n",
    "plt.bar('30mm', sphere30['Accuracy'].mean(), yerr=sphere30['Accuracy'].std())\n",
    "plt.title('15mm vs 30mm sphere')\n",
    "plt.show()\n",
    "\n"
   ]
  }
 ],
 "metadata": {
  "kernelspec": {
   "display_name": "bolt",
   "language": "python",
   "name": "python3"
  },
  "language_info": {
   "codemirror_mode": {
    "name": "ipython",
    "version": 3
   },
   "file_extension": ".py",
   "mimetype": "text/x-python",
   "name": "python",
   "nbconvert_exporter": "python",
   "pygments_lexer": "ipython3",
   "version": "3.12.7"
  }
 },
 "nbformat": 4,
 "nbformat_minor": 2
}
