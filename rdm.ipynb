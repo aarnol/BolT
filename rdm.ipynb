{
 "cells": [
  {
   "cell_type": "code",
   "execution_count": 9,
   "metadata": {},
   "outputs": [
    {
     "name": "stdout",
     "output_type": "stream",
     "text": [
      "Subject 0 loaded\n",
      "Subject 1 loaded\n",
      "Subject 2 loaded\n",
      "Reshaped x shape: (2, 3, 8, 107, 42)\n",
      "Reshaped y shape: (2, 3, 8)\n",
      "Reshaped subjectIds shape: (3,)\n",
      "\n",
      "Computing RDM\n",
      "\n",
      "RDM computing finished!\n"
     ]
    },
    {
     "data": {
      "text/plain": [
       "array([[0.        , 1.02102805],\n",
       "       [1.02102805, 0.        ]])"
      ]
     },
     "execution_count": 9,
     "metadata": {},
     "output_type": "execute_result"
    }
   ],
   "source": [
    "from Dataset.Prep import fnirs_utils\n",
    "import numpy as np\n",
    "from sklearn.model_selection import train_test_split\n",
    "\n",
    "#load the fnirs data\n",
    "fnirs_data = fnirs_utils.load_fnirs(\"./Dataset/Data/fNIRS\")\n",
    "\n",
    "#initialize the lists to store the data\n",
    "x = []\n",
    "y = []\n",
    "subjectIds = []\n",
    "\n",
    "#iterate over the data\n",
    "for data in fnirs_data[0]:\n",
    "   \n",
    "    # get the label\n",
    "    label = int(data[\"pheno\"][\"nback\"])\n",
    "   \n",
    "  \n",
    "    x.append(data[\"roiTimeseries\"].T)\n",
    "    y.append(label)\n",
    "    subjectIds.append(int(data[\"pheno\"][\"subjectId\"][1]))\n",
    "\n",
    "\n",
    "# make the data the proper shape [conditions, subjects, trials, channels, timepoints]\n",
    "x = np.array(x)\n",
    "y = np.array(y)\n",
    "subjectIds = np.array(subjectIds)\n",
    "# Define the number of conditions, subjects, trials, channels, and timepoints\n",
    "n_conditions = len(np.unique(y))  # Number of unique conditions (e.g., 2 for binary)\n",
    "n_subjects = len(np.unique(subjectIds))  # Number of subjects\n",
    "n_trials = x.shape[0] // (n_conditions * n_subjects)  # Trials per condition per subject\n",
    "n_channels = x.shape[1]  # Number of fNIRS channels\n",
    "n_timepoints = x.shape[2]  # Number of time points\n",
    "\n",
    "# Reshape x into the desired format: [conditions, subjects, trials, channels, timepoints]\n",
    "x_reshaped = x.reshape((n_conditions, n_subjects, n_trials, n_channels, n_timepoints))\n",
    "\n",
    "# Verify alignment of labels y\n",
    "# Ensure y is shaped: [conditions, subjects, trials]\n",
    "y_reshaped = y.reshape((n_conditions, n_subjects, n_trials))\n",
    "\n",
    "# Subject IDs should match: [subjects]\n",
    "subjectIds_reshaped = subjectIds[:n_subjects]\n",
    "\n",
    "print(\"Reshaped x shape:\", x_reshaped.shape)\n",
    "print(\"Reshaped y shape:\", y_reshaped.shape)\n",
    "print(\"Reshaped subjectIds shape:\", subjectIds_reshaped.shape)\n",
    "\n",
    "\n",
    "from neurora.rdm_cal import eegRDM\n",
    "from neurora.rsa_plot import plot_rdm, plot_corrs_by_time, plot_nps_hotmap, plot_corrs_hotmap\n",
    "# Append the label as the first dimension of x\n",
    "\n",
    "# Choose a metric: 'correlation', 'euclidean', etc.\n",
    "rdm = eegRDM(x_reshaped, sub_opt=0)\n",
    "rdm"
   ]
  },
  {
   "cell_type": "code",
   "execution_count": 8,
   "metadata": {},
   "outputs": [
    {
     "name": "stdout",
     "output_type": "stream",
     "text": [
      "The shape of RDM cannot be 2*2. Here NeuroRA cannot plot this RDM.\n"
     ]
    }
   ],
   "source": [
    "plot_rdm(rdm)"
   ]
  }
 ],
 "metadata": {
  "kernelspec": {
   "display_name": "bolt",
   "language": "python",
   "name": "python3"
  },
  "language_info": {
   "codemirror_mode": {
    "name": "ipython",
    "version": 3
   },
   "file_extension": ".py",
   "mimetype": "text/x-python",
   "name": "python",
   "nbconvert_exporter": "python",
   "pygments_lexer": "ipython3",
   "version": "3.12.7"
  }
 },
 "nbformat": 4,
 "nbformat_minor": 2
}
